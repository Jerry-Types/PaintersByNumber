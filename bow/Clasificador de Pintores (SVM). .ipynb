{
 "cells": [
  {
   "cell_type": "code",
   "execution_count": 1,
   "metadata": {
    "collapsed": true
   },
   "outputs": [],
   "source": [
    "import argparse as ap\n",
    "import cv2\n",
    "import imutils \n",
    "import numpy as np\n",
    "import os\n",
    "from sklearn.svm import LinearSVC\n",
    "from sklearn.externals import joblib\n",
    "from scipy.cluster.vq import *\n",
    "from sklearn.preprocessing import StandardScaler\n",
    "from skimage.feature import hog\n",
    "import matplotlib.pyplot as plt\n",
    "from skimage.feature import hog\n",
    "from skimage import data, color, exposure, io"
   ]
  },
  {
   "cell_type": "code",
   "execution_count": 2,
   "metadata": {
    "collapsed": false
   },
   "outputs": [
    {
     "name": "stdout",
     "output_type": "stream",
     "text": [
      "dataset/train/ ['Pablo_Picasso', 'Vincent_van_Gogh', 'Salvador_Dali', 'Claude_Monet', 'Paul_Cezanne']\n"
     ]
    }
   ],
   "source": [
    "train_path = \"dataset/train/\"\n",
    "training_names = os.listdir(train_path)\n",
    "print train_path,training_names\n",
    "\n",
    "\n",
    "image_paths = []\n",
    "image_classes = []\n",
    "class_id = 0 # Id from the class\n",
    "for training_name in training_names:\n",
    "    dir = os.path.join(train_path, training_name)\n",
    "    class_path = imutils.imlist(dir)\n",
    "    image_paths+=class_path\n",
    "    image_classes+=[class_id]*len(class_path)\n",
    "    class_id+=1\n",
    "\n",
    "#print image_classes,image_paths"
   ]
  },
  {
   "cell_type": "code",
   "execution_count": 3,
   "metadata": {
    "collapsed": false
   },
   "outputs": [],
   "source": [
    "des_list = []\n",
    "contador = 1\n",
    "# HOG\n",
    "for image_path in image_paths:\n",
    "    #print contador\n",
    "    im = io.imread(image_path)\n",
    "    image = color.rgb2gray(im)\n",
    "    image = cv2.resize(image, (250, 250)) \n",
    "    #print image_path\n",
    "    fd, des = hog(image, orientations=8, pixels_per_cell=(16,16),\n",
    "                    cells_per_block=(1, 1), visualise=True)\n",
    "    #print fd.shape\n",
    "    fd = np.float32(fd)\n",
    "    fd=fd.reshape(72,25)\n",
    "    des_list.append((image_path, fd))   \n",
    "    contador+=1\n",
    "\n",
    "#Store all descriptors as columns\n",
    "descriptors = des_list[0][1]\n",
    "#print descriptors\n",
    "for image_path, descriptor in des_list[1:]:\n",
    "    descriptors = np.vstack((descriptors, descriptor))  \n",
    "\n",
    "#print descriptors.shape\n",
    "# Computes k-means clustering\n",
    "k = 100\n",
    "voc, variance = kmeans(descriptors, k, 1) "
   ]
  },
  {
   "cell_type": "code",
   "execution_count": 4,
   "metadata": {
    "collapsed": false
   },
   "outputs": [
    {
     "data": {
      "text/plain": [
       "['bofnew.pkl']"
      ]
     },
     "execution_count": 4,
     "metadata": {},
     "output_type": "execute_result"
    }
   ],
   "source": [
    "\n",
    "# Calculate the histogram of features\n",
    "im_features = np.zeros((len(image_paths), k), \"float32\")\n",
    "for i in xrange(len(image_paths)):\n",
    "    #print voc.shape\n",
    "    words, distance = vq(des_list[i][1],voc)\n",
    "    for w in words:\n",
    "        im_features[i][w] += 1\n",
    "\n",
    "nbr_occurences = np.sum( (im_features > 0) * 1, axis = 0)\n",
    "idf = np.array(np.log((1.0*len(image_paths)+1) / (1.0*nbr_occurences + 1)), 'float32')\n",
    "\n",
    "stdSlr = StandardScaler().fit(im_features)\n",
    "im_features = stdSlr.transform(im_features)\n",
    "\n",
    "clf = LinearSVC()\n",
    "clf.fit(im_features, np.array(image_classes))\n",
    "\n",
    "# Save the SVM\n",
    "joblib.dump((clf, training_names, stdSlr, k, voc), \"bofnew.pkl\", compress=3)    \n",
    "    \n"
   ]
  },
  {
   "cell_type": "markdown",
   "metadata": {},
   "source": [
    "# Clasificar nuevas imagenes."
   ]
  },
  {
   "cell_type": "code",
   "execution_count": 5,
   "metadata": {
    "collapsed": false
   },
   "outputs": [
    {
     "name": "stdout",
     "output_type": "stream",
     "text": [
      "0 192\n"
     ]
    }
   ],
   "source": [
    "# Load the classifier, class names, scaler, number of clusters and vocabulary \n",
    "clf, classes_names, stdSlr, k, voc = joblib.load(\"bofnew.pkl\")\n",
    "image_paths = []\n",
    "image_classes = []\n",
    "\n",
    "#train_path = \"dataset/test/\"\n",
    "train_path = \"dataset/train/\"\n",
    "training_names = os.listdir(train_path)\n",
    "class_id=0\n",
    "for training_name in training_names:\n",
    "    dir = os.path.join(train_path, training_name)\n",
    "    class_path = imutils.imlist(dir)\n",
    "    image_paths+=class_path\n",
    "    image_classes+=[class_id]*len(class_path)\n",
    "    \n",
    "des_list = []\n",
    "\n",
    "for image_path in image_paths:\n",
    "    #print image_paths\n",
    "    im = io.imread(image_path)\n",
    "    image = color.rgb2gray(im)\n",
    "    image = cv2.resize(image, (250, 250)) \n",
    "    #print image_path\n",
    "    fd, des = hog(image, orientations=8, pixels_per_cell=(16,16),\n",
    "                    cells_per_block=(1, 1), visualise=True)\n",
    "    #print fd.shape\n",
    "    fd = np.float32(fd)\n",
    "    fd=fd.reshape(72,25)\n",
    "    des_list.append((image_path, fd)) \n",
    "    \n",
    "# Descriptors vertically in a numpy array\n",
    "descriptors = des_list[0][1]\n",
    "for image_path, descriptor in des_list[1:]:\n",
    "    descriptors = np.vstack((descriptors, descriptor)) \n",
    "\n",
    "#print \"Here\"\n",
    "#print voc.shape\n",
    "test_features = np.zeros((len(image_paths), k), \"float32\")\n",
    "test_labels=[]\n",
    "for i in xrange(len(image_paths)):\n",
    "    words, distance = vq(des_list[i][1],voc)\n",
    "    name = image_paths[i].split(\"/\")[2]\n",
    "    test_labels.append(name)\n",
    "    for w in words:\n",
    "        test_features[i][w] += 1\n",
    "    \n",
    "\n",
    "nbr_occurences = np.sum( (test_features > 0) * 1, axis = 0)\n",
    "idf = np.array(np.log((1.0*len(image_paths)+1) / (1.0*nbr_occurences + 1)), 'float32')\n",
    "\n",
    "\n",
    "test_features = stdSlr.transform(test_features)\n",
    "\n",
    "\n",
    "predictions =  [classes_names[i] for i in clf.predict(test_features)]\n",
    "\n",
    "cont_error=0\n",
    "for ind in range(len(predictions)):\n",
    "    if predictions[ind]!=test_labels[ind]:\n",
    "        print (predictions[ind],test_labels[ind])\n",
    "        cont_error+=1\n",
    "\n",
    "\n",
    "print cont_error,len(predictions)\n",
    "    "
   ]
  },
  {
   "cell_type": "code",
   "execution_count": 4,
   "metadata": {
    "collapsed": false
   },
   "outputs": [
    {
     "name": "stdout",
     "output_type": "stream",
     "text": [
      "0.4\n"
     ]
    }
   ],
   "source": [
    "from sklearn.metrics import accuracy_score\n",
    "\n",
    "print accuracy_score(test_labels, predictions)"
   ]
  },
  {
   "cell_type": "code",
   "execution_count": 7,
   "metadata": {
    "collapsed": false
   },
   "outputs": [
    {
     "name": "stdout",
     "output_type": "stream",
     "text": [
      "0.87\n"
     ]
    }
   ],
   "source": [
    "from sklearn.metrics import accuracy_score\n",
    "print accuracy_score(test_labels, predictions)\n"
   ]
  }
 ],
 "metadata": {
  "kernelspec": {
   "display_name": "Python 2",
   "language": "python",
   "name": "python2"
  },
  "language_info": {
   "codemirror_mode": {
    "name": "ipython",
    "version": 2
   },
   "file_extension": ".py",
   "mimetype": "text/x-python",
   "name": "python",
   "nbconvert_exporter": "python",
   "pygments_lexer": "ipython2",
   "version": "2.7.12"
  }
 },
 "nbformat": 4,
 "nbformat_minor": 2
}
